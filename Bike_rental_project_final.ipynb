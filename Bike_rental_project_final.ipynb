{
 "cells": [
  {
   "cell_type": "markdown",
   "metadata": {},
   "source": [
    "<h3>Problem statement</h3>\n",
    "<p>\n",
    "The objective of this Case is to Predication of bike rental count on daily based on the\n",
    "environmental and seasonal settings.\n",
    "</p>\n",
    "\n"
   ]
  },
  {
   "cell_type": "code",
   "execution_count": 1,
   "metadata": {
    "collapsed": true
   },
   "outputs": [],
   "source": [
    "#importing all the libraries \n",
    "#pandas  => for dataframe manipulation\n",
    "#seaborn => wriiten on top of matplotlib for data visualization\n",
    "#random  => for random number generator\n",
    "#sklearn => for machine learning algorithms\n",
    "#statsmodel => for performing statistical tests like VIF,Rsquare,Adjusted Rsquare\n",
    "\n",
    "\n",
    "import pandas as pd\n",
    "import seaborn as sns\n",
    "import numpy as np\n",
    "import random\n",
    "\n",
    "from math import radians, cos, sin, asin, sqrt\n",
    "\n",
    "from sklearn.model_selection import train_test_split,GridSearchCV\n",
    "from sklearn.tree import DecisionTreeRegressor\n",
    "from sklearn.ensemble import RandomForestRegressor\n",
    "from sklearn.neighbors import KNeighborsRegressor\n",
    "from sklearn.linear_model import LinearRegression\n",
    "from sklearn.metrics import mean_squared_error\n",
    "\n",
    "\n",
    "import warnings\n",
    "warnings.filterwarnings('ignore')\n",
    "\n",
    "from patsy import dmatrices\n",
    "import statsmodels.formula.api as sm\n",
    "from statsmodels.stats.outliers_influence import variance_inflation_factor\n",
    "\n",
    "import matplotlib.pyplot as plt\n",
    "\n",
    "random.seed(113)\n"
   ]
  },
  {
   "cell_type": "code",
   "execution_count": 2,
   "metadata": {},
   "outputs": [],
   "source": [
    "df = pd.read_csv(\"day.csv\");"
   ]
  },
  {
   "cell_type": "code",
   "execution_count": 3,
   "metadata": {},
   "outputs": [
    {
     "name": "stdout",
     "output_type": "stream",
     "text": [
      "(731, 16)\n"
     ]
    }
   ],
   "source": [
    "#Let us check the shape of dataset\n",
    "print(df.shape)"
   ]
  },
  {
   "cell_type": "code",
   "execution_count": 4,
   "metadata": {},
   "outputs": [
    {
     "name": "stdout",
     "output_type": "stream",
     "text": [
      "<class 'pandas.core.frame.DataFrame'>\n",
      "RangeIndex: 731 entries, 0 to 730\n",
      "Data columns (total 16 columns):\n",
      "instant       731 non-null int64\n",
      "dteday        731 non-null object\n",
      "season        731 non-null int64\n",
      "yr            731 non-null int64\n",
      "mnth          731 non-null int64\n",
      "holiday       731 non-null int64\n",
      "weekday       731 non-null int64\n",
      "workingday    731 non-null int64\n",
      "weathersit    731 non-null int64\n",
      "temp          731 non-null float64\n",
      "atemp         731 non-null float64\n",
      "hum           731 non-null float64\n",
      "windspeed     731 non-null float64\n",
      "casual        731 non-null int64\n",
      "registered    731 non-null int64\n",
      "cnt           731 non-null int64\n",
      "dtypes: float64(4), int64(11), object(1)\n",
      "memory usage: 91.5+ KB\n"
     ]
    }
   ],
   "source": [
    "\"\"\"\n",
    "We have 731 rows and 16 columns in dataset\n",
    "\"\"\"\n",
    "#Let us have some information about the dataframe like null values and types\n",
    "df.info()"
   ]
  },
  {
   "cell_type": "code",
   "execution_count": 5,
   "metadata": {},
   "outputs": [
    {
     "data": {
      "text/html": [
       "<div>\n",
       "<style>\n",
       "    .dataframe thead tr:only-child th {\n",
       "        text-align: right;\n",
       "    }\n",
       "\n",
       "    .dataframe thead th {\n",
       "        text-align: left;\n",
       "    }\n",
       "\n",
       "    .dataframe tbody tr th {\n",
       "        vertical-align: top;\n",
       "    }\n",
       "</style>\n",
       "<table border=\"1\" class=\"dataframe\">\n",
       "  <thead>\n",
       "    <tr style=\"text-align: right;\">\n",
       "      <th></th>\n",
       "      <th>instant</th>\n",
       "      <th>dteday</th>\n",
       "      <th>season</th>\n",
       "      <th>yr</th>\n",
       "      <th>mnth</th>\n",
       "      <th>holiday</th>\n",
       "      <th>weekday</th>\n",
       "      <th>workingday</th>\n",
       "      <th>weathersit</th>\n",
       "      <th>temp</th>\n",
       "      <th>atemp</th>\n",
       "      <th>hum</th>\n",
       "      <th>windspeed</th>\n",
       "      <th>casual</th>\n",
       "      <th>registered</th>\n",
       "      <th>cnt</th>\n",
       "    </tr>\n",
       "  </thead>\n",
       "  <tbody>\n",
       "    <tr>\n",
       "      <th>0</th>\n",
       "      <td>1</td>\n",
       "      <td>2011-01-01</td>\n",
       "      <td>1</td>\n",
       "      <td>0</td>\n",
       "      <td>1</td>\n",
       "      <td>0</td>\n",
       "      <td>6</td>\n",
       "      <td>0</td>\n",
       "      <td>2</td>\n",
       "      <td>0.344167</td>\n",
       "      <td>0.363625</td>\n",
       "      <td>0.805833</td>\n",
       "      <td>0.160446</td>\n",
       "      <td>331</td>\n",
       "      <td>654</td>\n",
       "      <td>985</td>\n",
       "    </tr>\n",
       "    <tr>\n",
       "      <th>1</th>\n",
       "      <td>2</td>\n",
       "      <td>2011-01-02</td>\n",
       "      <td>1</td>\n",
       "      <td>0</td>\n",
       "      <td>1</td>\n",
       "      <td>0</td>\n",
       "      <td>0</td>\n",
       "      <td>0</td>\n",
       "      <td>2</td>\n",
       "      <td>0.363478</td>\n",
       "      <td>0.353739</td>\n",
       "      <td>0.696087</td>\n",
       "      <td>0.248539</td>\n",
       "      <td>131</td>\n",
       "      <td>670</td>\n",
       "      <td>801</td>\n",
       "    </tr>\n",
       "    <tr>\n",
       "      <th>2</th>\n",
       "      <td>3</td>\n",
       "      <td>2011-01-03</td>\n",
       "      <td>1</td>\n",
       "      <td>0</td>\n",
       "      <td>1</td>\n",
       "      <td>0</td>\n",
       "      <td>1</td>\n",
       "      <td>1</td>\n",
       "      <td>1</td>\n",
       "      <td>0.196364</td>\n",
       "      <td>0.189405</td>\n",
       "      <td>0.437273</td>\n",
       "      <td>0.248309</td>\n",
       "      <td>120</td>\n",
       "      <td>1229</td>\n",
       "      <td>1349</td>\n",
       "    </tr>\n",
       "    <tr>\n",
       "      <th>3</th>\n",
       "      <td>4</td>\n",
       "      <td>2011-01-04</td>\n",
       "      <td>1</td>\n",
       "      <td>0</td>\n",
       "      <td>1</td>\n",
       "      <td>0</td>\n",
       "      <td>2</td>\n",
       "      <td>1</td>\n",
       "      <td>1</td>\n",
       "      <td>0.200000</td>\n",
       "      <td>0.212122</td>\n",
       "      <td>0.590435</td>\n",
       "      <td>0.160296</td>\n",
       "      <td>108</td>\n",
       "      <td>1454</td>\n",
       "      <td>1562</td>\n",
       "    </tr>\n",
       "    <tr>\n",
       "      <th>4</th>\n",
       "      <td>5</td>\n",
       "      <td>2011-01-05</td>\n",
       "      <td>1</td>\n",
       "      <td>0</td>\n",
       "      <td>1</td>\n",
       "      <td>0</td>\n",
       "      <td>3</td>\n",
       "      <td>1</td>\n",
       "      <td>1</td>\n",
       "      <td>0.226957</td>\n",
       "      <td>0.229270</td>\n",
       "      <td>0.436957</td>\n",
       "      <td>0.186900</td>\n",
       "      <td>82</td>\n",
       "      <td>1518</td>\n",
       "      <td>1600</td>\n",
       "    </tr>\n",
       "  </tbody>\n",
       "</table>\n",
       "</div>"
      ],
      "text/plain": [
       "   instant      dteday  season  yr  mnth  holiday  weekday  workingday  \\\n",
       "0        1  2011-01-01       1   0     1        0        6           0   \n",
       "1        2  2011-01-02       1   0     1        0        0           0   \n",
       "2        3  2011-01-03       1   0     1        0        1           1   \n",
       "3        4  2011-01-04       1   0     1        0        2           1   \n",
       "4        5  2011-01-05       1   0     1        0        3           1   \n",
       "\n",
       "   weathersit      temp     atemp       hum  windspeed  casual  registered  \\\n",
       "0           2  0.344167  0.363625  0.805833   0.160446     331         654   \n",
       "1           2  0.363478  0.353739  0.696087   0.248539     131         670   \n",
       "2           1  0.196364  0.189405  0.437273   0.248309     120        1229   \n",
       "3           1  0.200000  0.212122  0.590435   0.160296     108        1454   \n",
       "4           1  0.226957  0.229270  0.436957   0.186900      82        1518   \n",
       "\n",
       "    cnt  \n",
       "0   985  \n",
       "1   801  \n",
       "2  1349  \n",
       "3  1562  \n",
       "4  1600  "
      ]
     },
     "execution_count": 5,
     "metadata": {},
     "output_type": "execute_result"
    }
   ],
   "source": [
    "df.head()"
   ]
  },
  {
   "cell_type": "code",
   "execution_count": 6,
   "metadata": {},
   "outputs": [
    {
     "data": {
      "text/plain": [
       "instant       0\n",
       "dteday        0\n",
       "season        0\n",
       "yr            0\n",
       "mnth          0\n",
       "holiday       0\n",
       "weekday       0\n",
       "workingday    0\n",
       "weathersit    0\n",
       "temp          0\n",
       "atemp         0\n",
       "hum           0\n",
       "windspeed     0\n",
       "casual        0\n",
       "registered    0\n",
       "cnt           0\n",
       "dtype: int64"
      ]
     },
     "execution_count": 6,
     "metadata": {},
     "output_type": "execute_result"
    }
   ],
   "source": [
    "df.isnull().sum()"
   ]
  },
  {
   "cell_type": "code",
   "execution_count": 7,
   "metadata": {},
   "outputs": [
    {
     "data": {
      "text/plain": [
       "'\\nFor better understanding of data mapping numerical categories in to their respective strings\\n'"
      ]
     },
     "execution_count": 7,
     "metadata": {},
     "output_type": "execute_result"
    }
   ],
   "source": [
    "\"\"\"\n",
    "For better understanding of data mapping numerical categories in to their respective strings\n",
    "\"\"\"\n",
    "# d = {1 : 'springer', 2:'summer' ,3:'fall',4:'winter'}\n",
    "# df['season'] = df['season'].map(d)\n"
   ]
  },
  {
   "cell_type": "code",
   "execution_count": 8,
   "metadata": {},
   "outputs": [
    {
     "data": {
      "text/html": [
       "<div>\n",
       "<style>\n",
       "    .dataframe thead tr:only-child th {\n",
       "        text-align: right;\n",
       "    }\n",
       "\n",
       "    .dataframe thead th {\n",
       "        text-align: left;\n",
       "    }\n",
       "\n",
       "    .dataframe tbody tr th {\n",
       "        vertical-align: top;\n",
       "    }\n",
       "</style>\n",
       "<table border=\"1\" class=\"dataframe\">\n",
       "  <thead>\n",
       "    <tr style=\"text-align: right;\">\n",
       "      <th></th>\n",
       "      <th>instant</th>\n",
       "      <th>dteday</th>\n",
       "      <th>season</th>\n",
       "      <th>yr</th>\n",
       "      <th>mnth</th>\n",
       "      <th>holiday</th>\n",
       "      <th>weekday</th>\n",
       "      <th>workingday</th>\n",
       "      <th>weathersit</th>\n",
       "      <th>temp</th>\n",
       "      <th>atemp</th>\n",
       "      <th>hum</th>\n",
       "      <th>windspeed</th>\n",
       "      <th>casual</th>\n",
       "      <th>registered</th>\n",
       "      <th>cnt</th>\n",
       "    </tr>\n",
       "  </thead>\n",
       "  <tbody>\n",
       "    <tr>\n",
       "      <th>0</th>\n",
       "      <td>1</td>\n",
       "      <td>2011-01-01</td>\n",
       "      <td>1</td>\n",
       "      <td>0</td>\n",
       "      <td>1</td>\n",
       "      <td>0</td>\n",
       "      <td>6</td>\n",
       "      <td>0</td>\n",
       "      <td>2</td>\n",
       "      <td>0.344167</td>\n",
       "      <td>0.363625</td>\n",
       "      <td>0.805833</td>\n",
       "      <td>0.160446</td>\n",
       "      <td>331</td>\n",
       "      <td>654</td>\n",
       "      <td>985</td>\n",
       "    </tr>\n",
       "    <tr>\n",
       "      <th>1</th>\n",
       "      <td>2</td>\n",
       "      <td>2011-01-02</td>\n",
       "      <td>1</td>\n",
       "      <td>0</td>\n",
       "      <td>1</td>\n",
       "      <td>0</td>\n",
       "      <td>0</td>\n",
       "      <td>0</td>\n",
       "      <td>2</td>\n",
       "      <td>0.363478</td>\n",
       "      <td>0.353739</td>\n",
       "      <td>0.696087</td>\n",
       "      <td>0.248539</td>\n",
       "      <td>131</td>\n",
       "      <td>670</td>\n",
       "      <td>801</td>\n",
       "    </tr>\n",
       "    <tr>\n",
       "      <th>2</th>\n",
       "      <td>3</td>\n",
       "      <td>2011-01-03</td>\n",
       "      <td>1</td>\n",
       "      <td>0</td>\n",
       "      <td>1</td>\n",
       "      <td>0</td>\n",
       "      <td>1</td>\n",
       "      <td>1</td>\n",
       "      <td>1</td>\n",
       "      <td>0.196364</td>\n",
       "      <td>0.189405</td>\n",
       "      <td>0.437273</td>\n",
       "      <td>0.248309</td>\n",
       "      <td>120</td>\n",
       "      <td>1229</td>\n",
       "      <td>1349</td>\n",
       "    </tr>\n",
       "    <tr>\n",
       "      <th>3</th>\n",
       "      <td>4</td>\n",
       "      <td>2011-01-04</td>\n",
       "      <td>1</td>\n",
       "      <td>0</td>\n",
       "      <td>1</td>\n",
       "      <td>0</td>\n",
       "      <td>2</td>\n",
       "      <td>1</td>\n",
       "      <td>1</td>\n",
       "      <td>0.200000</td>\n",
       "      <td>0.212122</td>\n",
       "      <td>0.590435</td>\n",
       "      <td>0.160296</td>\n",
       "      <td>108</td>\n",
       "      <td>1454</td>\n",
       "      <td>1562</td>\n",
       "    </tr>\n",
       "    <tr>\n",
       "      <th>4</th>\n",
       "      <td>5</td>\n",
       "      <td>2011-01-05</td>\n",
       "      <td>1</td>\n",
       "      <td>0</td>\n",
       "      <td>1</td>\n",
       "      <td>0</td>\n",
       "      <td>3</td>\n",
       "      <td>1</td>\n",
       "      <td>1</td>\n",
       "      <td>0.226957</td>\n",
       "      <td>0.229270</td>\n",
       "      <td>0.436957</td>\n",
       "      <td>0.186900</td>\n",
       "      <td>82</td>\n",
       "      <td>1518</td>\n",
       "      <td>1600</td>\n",
       "    </tr>\n",
       "  </tbody>\n",
       "</table>\n",
       "</div>"
      ],
      "text/plain": [
       "   instant      dteday  season  yr  mnth  holiday  weekday  workingday  \\\n",
       "0        1  2011-01-01       1   0     1        0        6           0   \n",
       "1        2  2011-01-02       1   0     1        0        0           0   \n",
       "2        3  2011-01-03       1   0     1        0        1           1   \n",
       "3        4  2011-01-04       1   0     1        0        2           1   \n",
       "4        5  2011-01-05       1   0     1        0        3           1   \n",
       "\n",
       "   weathersit      temp     atemp       hum  windspeed  casual  registered  \\\n",
       "0           2  0.344167  0.363625  0.805833   0.160446     331         654   \n",
       "1           2  0.363478  0.353739  0.696087   0.248539     131         670   \n",
       "2           1  0.196364  0.189405  0.437273   0.248309     120        1229   \n",
       "3           1  0.200000  0.212122  0.590435   0.160296     108        1454   \n",
       "4           1  0.226957  0.229270  0.436957   0.186900      82        1518   \n",
       "\n",
       "    cnt  \n",
       "0   985  \n",
       "1   801  \n",
       "2  1349  \n",
       "3  1562  \n",
       "4  1600  "
      ]
     },
     "execution_count": 8,
     "metadata": {},
     "output_type": "execute_result"
    }
   ],
   "source": [
    "df.head()"
   ]
  },
  {
   "cell_type": "code",
   "execution_count": 9,
   "metadata": {},
   "outputs": [
    {
     "data": {
      "text/plain": [
       "3    188\n",
       "2    184\n",
       "1    181\n",
       "4    178\n",
       "Name: season, dtype: int64"
      ]
     },
     "execution_count": 9,
     "metadata": {},
     "output_type": "execute_result"
    }
   ],
   "source": [
    "df['season'].value_counts()"
   ]
  },
  {
   "cell_type": "code",
   "execution_count": 10,
   "metadata": {},
   "outputs": [
    {
     "data": {
      "text/plain": [
       "'\\n0 here means 2011\\n1 here means 2012\\nyou can map as above for better understanding\\n'"
      ]
     },
     "execution_count": 10,
     "metadata": {},
     "output_type": "execute_result"
    }
   ],
   "source": [
    "\n",
    "df['yr'].value_counts()\n",
    "\"\"\"\n",
    "0 here means 2011\n",
    "1 here means 2012\n",
    "you can map as above for better understanding\n",
    "\"\"\""
   ]
  },
  {
   "cell_type": "code",
   "execution_count": 11,
   "metadata": {},
   "outputs": [
    {
     "data": {
      "text/plain": [
       "'\\nFor better understanding of data mapping numerical categories in to their respective strings\\n'"
      ]
     },
     "execution_count": 11,
     "metadata": {},
     "output_type": "execute_result"
    }
   ],
   "source": [
    "\"\"\"\n",
    "For better understanding of data mapping numerical categories in to their respective strings\n",
    "\"\"\"\n",
    "\n",
    "\n",
    "# d = {1:'jan',\n",
    "#      2:'feb',\n",
    "#      3:'march',\n",
    "#      4:'april',\n",
    "#      5:'may',\n",
    "#      6:'june',\n",
    "#      7:'july',\n",
    "#      8:'aug',\n",
    "#      9:'sep',\n",
    "#      10:'oct',\n",
    "#      11:'nov',\n",
    "#      12:'dec'\n",
    "#     }\n",
    "# df['mnth'] = df['mnth'].map(d)"
   ]
  },
  {
   "cell_type": "code",
   "execution_count": 12,
   "metadata": {},
   "outputs": [
    {
     "data": {
      "text/plain": [
       "12    62\n",
       "10    62\n",
       "8     62\n",
       "7     62\n",
       "5     62\n",
       "3     62\n",
       "1     62\n",
       "11    60\n",
       "9     60\n",
       "6     60\n",
       "4     60\n",
       "2     57\n",
       "Name: mnth, dtype: int64"
      ]
     },
     "execution_count": 12,
     "metadata": {},
     "output_type": "execute_result"
    }
   ],
   "source": [
    "df['mnth'].value_counts()"
   ]
  },
  {
   "cell_type": "code",
   "execution_count": 13,
   "metadata": {},
   "outputs": [
    {
     "data": {
      "text/plain": [
       "'\\n0 here means No holiday\\n1 here means holiday\\n'"
      ]
     },
     "execution_count": 13,
     "metadata": {},
     "output_type": "execute_result"
    }
   ],
   "source": [
    "\n",
    "df['holiday'].value_counts()\n",
    "\n",
    "\"\"\"\n",
    "0 here means No holiday\n",
    "1 here means holiday\n",
    "\"\"\"\n"
   ]
  },
  {
   "cell_type": "code",
   "execution_count": 14,
   "metadata": {},
   "outputs": [
    {
     "data": {
      "text/plain": [
       "'\\nFor better understanding of data mapping numerical categories in to their respective strings\\n'"
      ]
     },
     "execution_count": 14,
     "metadata": {},
     "output_type": "execute_result"
    }
   ],
   "source": [
    "\"\"\"\n",
    "For better understanding of data mapping numerical categories in to their respective strings\n",
    "\"\"\"\n",
    "\n",
    "# d = {\n",
    "#     0:'sun',\n",
    "#     1:'mon',\n",
    "#     2:'tue',\n",
    "#     3:'wed',\n",
    "#     4:'thu',\n",
    "#     5:'fri',\n",
    "#     6:'sat',\n",
    "# }\n",
    "\n",
    "# df['weekday'] = df['weekday'].map(d)"
   ]
  },
  {
   "cell_type": "code",
   "execution_count": 15,
   "metadata": {},
   "outputs": [
    {
     "data": {
      "text/plain": [
       "'\\nFor better understanding of data mapping numerical categories in to their respective strings\\n'"
      ]
     },
     "execution_count": 15,
     "metadata": {},
     "output_type": "execute_result"
    }
   ],
   "source": [
    "\n",
    "\"\"\"\n",
    "For better understanding of data mapping numerical categories in to their respective strings\n",
    "\"\"\"\n",
    "# d = {\n",
    "#     1:'clear_or_few',\n",
    "#     2:'mist_and_cloudy',\n",
    "#     3:'lightrain_or_snow',\n",
    "#     4:'heavy_rain'\n",
    "# }\n",
    "\n",
    "# df['weathersit'] = df['weathersit'].map(d)"
   ]
  },
  {
   "cell_type": "code",
   "execution_count": 16,
   "metadata": {},
   "outputs": [
    {
     "data": {
      "text/plain": [
       "1    463\n",
       "2    247\n",
       "3     21\n",
       "Name: weathersit, dtype: int64"
      ]
     },
     "execution_count": 16,
     "metadata": {},
     "output_type": "execute_result"
    }
   ],
   "source": [
    "df['weathersit'].value_counts()"
   ]
  },
  {
   "cell_type": "code",
   "execution_count": 17,
   "metadata": {},
   "outputs": [
    {
     "data": {
      "text/html": [
       "<div>\n",
       "<style>\n",
       "    .dataframe thead tr:only-child th {\n",
       "        text-align: right;\n",
       "    }\n",
       "\n",
       "    .dataframe thead th {\n",
       "        text-align: left;\n",
       "    }\n",
       "\n",
       "    .dataframe tbody tr th {\n",
       "        vertical-align: top;\n",
       "    }\n",
       "</style>\n",
       "<table border=\"1\" class=\"dataframe\">\n",
       "  <thead>\n",
       "    <tr style=\"text-align: right;\">\n",
       "      <th></th>\n",
       "      <th>instant</th>\n",
       "      <th>dteday</th>\n",
       "      <th>season</th>\n",
       "      <th>yr</th>\n",
       "      <th>mnth</th>\n",
       "      <th>holiday</th>\n",
       "      <th>weekday</th>\n",
       "      <th>workingday</th>\n",
       "      <th>weathersit</th>\n",
       "      <th>temp</th>\n",
       "      <th>atemp</th>\n",
       "      <th>hum</th>\n",
       "      <th>windspeed</th>\n",
       "      <th>casual</th>\n",
       "      <th>registered</th>\n",
       "      <th>cnt</th>\n",
       "    </tr>\n",
       "  </thead>\n",
       "  <tbody>\n",
       "    <tr>\n",
       "      <th>0</th>\n",
       "      <td>1</td>\n",
       "      <td>2011-01-01</td>\n",
       "      <td>1</td>\n",
       "      <td>0</td>\n",
       "      <td>1</td>\n",
       "      <td>0</td>\n",
       "      <td>6</td>\n",
       "      <td>0</td>\n",
       "      <td>2</td>\n",
       "      <td>0.344167</td>\n",
       "      <td>0.363625</td>\n",
       "      <td>0.805833</td>\n",
       "      <td>0.160446</td>\n",
       "      <td>331</td>\n",
       "      <td>654</td>\n",
       "      <td>985</td>\n",
       "    </tr>\n",
       "    <tr>\n",
       "      <th>1</th>\n",
       "      <td>2</td>\n",
       "      <td>2011-01-02</td>\n",
       "      <td>1</td>\n",
       "      <td>0</td>\n",
       "      <td>1</td>\n",
       "      <td>0</td>\n",
       "      <td>0</td>\n",
       "      <td>0</td>\n",
       "      <td>2</td>\n",
       "      <td>0.363478</td>\n",
       "      <td>0.353739</td>\n",
       "      <td>0.696087</td>\n",
       "      <td>0.248539</td>\n",
       "      <td>131</td>\n",
       "      <td>670</td>\n",
       "      <td>801</td>\n",
       "    </tr>\n",
       "    <tr>\n",
       "      <th>2</th>\n",
       "      <td>3</td>\n",
       "      <td>2011-01-03</td>\n",
       "      <td>1</td>\n",
       "      <td>0</td>\n",
       "      <td>1</td>\n",
       "      <td>0</td>\n",
       "      <td>1</td>\n",
       "      <td>1</td>\n",
       "      <td>1</td>\n",
       "      <td>0.196364</td>\n",
       "      <td>0.189405</td>\n",
       "      <td>0.437273</td>\n",
       "      <td>0.248309</td>\n",
       "      <td>120</td>\n",
       "      <td>1229</td>\n",
       "      <td>1349</td>\n",
       "    </tr>\n",
       "    <tr>\n",
       "      <th>3</th>\n",
       "      <td>4</td>\n",
       "      <td>2011-01-04</td>\n",
       "      <td>1</td>\n",
       "      <td>0</td>\n",
       "      <td>1</td>\n",
       "      <td>0</td>\n",
       "      <td>2</td>\n",
       "      <td>1</td>\n",
       "      <td>1</td>\n",
       "      <td>0.200000</td>\n",
       "      <td>0.212122</td>\n",
       "      <td>0.590435</td>\n",
       "      <td>0.160296</td>\n",
       "      <td>108</td>\n",
       "      <td>1454</td>\n",
       "      <td>1562</td>\n",
       "    </tr>\n",
       "    <tr>\n",
       "      <th>4</th>\n",
       "      <td>5</td>\n",
       "      <td>2011-01-05</td>\n",
       "      <td>1</td>\n",
       "      <td>0</td>\n",
       "      <td>1</td>\n",
       "      <td>0</td>\n",
       "      <td>3</td>\n",
       "      <td>1</td>\n",
       "      <td>1</td>\n",
       "      <td>0.226957</td>\n",
       "      <td>0.229270</td>\n",
       "      <td>0.436957</td>\n",
       "      <td>0.186900</td>\n",
       "      <td>82</td>\n",
       "      <td>1518</td>\n",
       "      <td>1600</td>\n",
       "    </tr>\n",
       "  </tbody>\n",
       "</table>\n",
       "</div>"
      ],
      "text/plain": [
       "   instant      dteday  season  yr  mnth  holiday  weekday  workingday  \\\n",
       "0        1  2011-01-01       1   0     1        0        6           0   \n",
       "1        2  2011-01-02       1   0     1        0        0           0   \n",
       "2        3  2011-01-03       1   0     1        0        1           1   \n",
       "3        4  2011-01-04       1   0     1        0        2           1   \n",
       "4        5  2011-01-05       1   0     1        0        3           1   \n",
       "\n",
       "   weathersit      temp     atemp       hum  windspeed  casual  registered  \\\n",
       "0           2  0.344167  0.363625  0.805833   0.160446     331         654   \n",
       "1           2  0.363478  0.353739  0.696087   0.248539     131         670   \n",
       "2           1  0.196364  0.189405  0.437273   0.248309     120        1229   \n",
       "3           1  0.200000  0.212122  0.590435   0.160296     108        1454   \n",
       "4           1  0.226957  0.229270  0.436957   0.186900      82        1518   \n",
       "\n",
       "    cnt  \n",
       "0   985  \n",
       "1   801  \n",
       "2  1349  \n",
       "3  1562  \n",
       "4  1600  "
      ]
     },
     "execution_count": 17,
     "metadata": {},
     "output_type": "execute_result"
    }
   ],
   "source": [
    "df.head()"
   ]
  },
  {
   "cell_type": "code",
   "execution_count": 18,
   "metadata": {},
   "outputs": [
    {
     "data": {
      "image/png": "[encoded data removed]",
      "text/plain": [
       "<matplotlib.figure.Figure at 0x7f5556184f60>"
      ]
     },
     "metadata": {},
     "output_type": "display_data"
    }
   ],
   "source": [
    "# ax = sns.distplot(df['temp'])\n",
    "ax = plt.hist(df['temp'])\n",
    "plt.show()"
   ]
  },
  {
   "cell_type": "code",
   "execution_count": 19,
   "metadata": {},
   "outputs": [
    {
     "data": {
      "image/png": "[encoded data removed]",
      "text/plain": [
       "<matplotlib.figure.Figure at 0x7f5556184cf8>"
      ]
     },
     "metadata": {},
     "output_type": "display_data"
    }
   ],
   "source": [
    "ax = plt.hist(df['atemp'])\n",
    "plt.show()"
   ]
  },
  {
   "cell_type": "code",
   "execution_count": 20,
   "metadata": {},
   "outputs": [
    {
     "data": {
      "image/png": "[encoded data removed]",
      "text/plain": [
       "<matplotlib.figure.Figure at 0x7f5556184240>"
      ]
     },
     "metadata": {},
     "output_type": "display_data"
    }
   ],
   "source": [
    "ax = plt.hist(df['windspeed'])\n",
    "plt.show()"
   ]
  },
  {
   "cell_type": "code",
   "execution_count": 21,
   "metadata": {},
   "outputs": [
    {
     "data": {
      "image/png": "[encoded data removed]",
      "text/plain": [
       "<matplotlib.figure.Figure at 0x7f554e1d8a58>"
      ]
     },
     "metadata": {},
     "output_type": "display_data"
    }
   ],
   "source": [
    "# ax = sns.distplot(df['hum'])\n",
    "ax = plt.hist(df['hum'])\n",
    "plt.show()"
   ]
  },
  {
   "cell_type": "code",
   "execution_count": 22,
   "metadata": {},
   "outputs": [
    {
     "data": {
      "image/png": "[encoded data removed]",
      "text/plain": [
       "<matplotlib.figure.Figure at 0x7f554e1493c8>"
      ]
     },
     "metadata": {},
     "output_type": "display_data"
    }
   ],
   "source": [
    "# ax = sns.distplot(df['cnt'])\n",
    "ax = plt.hist(df['cnt'])\n",
    "plt.show()"
   ]
  },
  {
   "cell_type": "code",
   "execution_count": 23,
   "metadata": {},
   "outputs": [],
   "source": [
    "# sns.set(style=\"ticks\", color_codes=True)\n",
    "# g = sns.pairplot(df, vars=[\"temp\", \"atemp\",\"windspeed\",'hum','cnt'])\n",
    "# plt.show()"
   ]
  },
  {
   "cell_type": "code",
   "execution_count": 24,
   "metadata": {},
   "outputs": [
    {
     "data": {
      "image/png": "[encoded data removed]",
      "text/plain": [
       "<matplotlib.figure.Figure at 0x7f554e0e63c8>"
      ]
     },
     "metadata": {},
     "output_type": "display_data"
    }
   ],
   "source": [
    "\"\"\"\n",
    "visualizing all columns one by one to take insights from the data with respect to target variable count\n",
    "\"\"\"\n",
    "\n",
    "# cols = ['season','yr','mnth','holiday','weekday','workingday','weathersit']\n",
    "\n",
    "df.groupby('season')['cnt'].sum().plot.bar(color = 'b');\n",
    "plt.title('Bike count by season')\n",
    "plt.show()"
   ]
  },
  {
   "cell_type": "code",
   "execution_count": 25,
   "metadata": {
    "collapsed": true
   },
   "outputs": [],
   "source": [
    "##As we can clearly see in season 2 and 3 bike rental count increases as compared to 1 and 4"
   ]
  },
  {
   "cell_type": "code",
   "execution_count": 26,
   "metadata": {},
   "outputs": [
    {
     "data": {
      "image/png": "[encoded data removed]",
      "text/plain": [
       "<matplotlib.figure.Figure at 0x7f554e028860>"
      ]
     },
     "metadata": {},
     "output_type": "display_data"
    }
   ],
   "source": [
    "df.groupby('yr')['cnt'].sum().plot.bar(color = 'b');\n",
    "plt.title('Bike count by yr');\n",
    "plt.show()"
   ]
  },
  {
   "cell_type": "code",
   "execution_count": 27,
   "metadata": {
    "collapsed": true
   },
   "outputs": [],
   "source": [
    "##As from the graph we can say that the  growth of the requirements of bike increases in 2012 as compared to 2011"
   ]
  },
  {
   "cell_type": "code",
   "execution_count": 28,
   "metadata": {},
   "outputs": [
    {
     "data": {
      "image/png": "[encoded data removed]",
      "text/plain": [
       "<matplotlib.figure.Figure at 0x7f554dfff470>"
      ]
     },
     "metadata": {},
     "output_type": "display_data"
    }
   ],
   "source": [
    "df.groupby('mnth')['cnt'].sum().plot.bar(color = 'b');\n",
    "plt.title('Bike count by mnth')\n",
    "plt.show()"
   ]
  },
  {
   "cell_type": "code",
   "execution_count": 29,
   "metadata": {},
   "outputs": [
    {
     "data": {
      "image/png": "[encoded data removed]",
      "text/plain": [
       "<matplotlib.figure.Figure at 0x7f554df95e48>"
      ]
     },
     "metadata": {},
     "output_type": "display_data"
    }
   ],
   "source": [
    "df.groupby('holiday')['cnt'].sum().plot.bar(color = 'b');\n",
    "plt.title('Bike count by holiday');\n",
    "plt.show()"
   ]
  },
  {
   "cell_type": "code",
   "execution_count": 30,
   "metadata": {
    "collapsed": true
   },
   "outputs": [],
   "source": [
    "## As expected the requirement of bike is more on workdays rather than on holidays"
   ]
  },
  {
   "cell_type": "code",
   "execution_count": 31,
   "metadata": {},
   "outputs": [
    {
     "data": {
      "image/png": "[encoded data removed]",
      "text/plain": [
       "<matplotlib.figure.Figure at 0x7f554def9080>"
      ]
     },
     "metadata": {},
     "output_type": "display_data"
    }
   ],
   "source": [
    "df.groupby('weekday')['cnt'].sum().plot.bar(color = 'b');\n",
    "plt.title('Bike count by weekday')\n",
    "plt.show()"
   ]
  },
  {
   "cell_type": "code",
   "execution_count": 32,
   "metadata": {},
   "outputs": [
    {
     "data": {
      "image/png": "[encoded data removed]",
      "text/plain": [
       "<matplotlib.figure.Figure at 0x7f554deb84e0>"
      ]
     },
     "metadata": {},
     "output_type": "display_data"
    }
   ],
   "source": [
    "df.groupby('workingday')['cnt'].sum().plot.bar(color = 'b');\n",
    "plt.title('Bike count by workingday')\n",
    "plt.show()"
   ]
  },
  {
   "cell_type": "code",
   "execution_count": 33,
   "metadata": {},
   "outputs": [
    {
     "data": {
      "image/png": "[encoded data removed]",
      "text/plain": [
       "<matplotlib.figure.Figure at 0x7f554de23630>"
      ]
     },
     "metadata": {},
     "output_type": "display_data"
    }
   ],
   "source": [
    "df.groupby('weathersit')['cnt'].sum().plot.bar(color = 'b');\n",
    "plt.title('Bike count by weathersit');\n",
    "plt.show()"
   ]
  },
  {
   "cell_type": "code",
   "execution_count": 34,
   "metadata": {
    "collapsed": true
   },
   "outputs": [],
   "source": [
    "##Let us do some testing on numerical variables for multicollinearity we will only use temp,hum,atemp,\n",
    "#windspeed as these are only numerical variable \n",
    "\n",
    "\"\"\"\n",
    "We will use variance inflation factor to detect the multicollinearity\n",
    "\"\"\"\n",
    "df_subset = df[['cnt','temp','hum','atemp','windspeed']].dropna()\n",
    "#subset the dataframe\n"
   ]
  },
  {
   "cell_type": "code",
   "execution_count": 35,
   "metadata": {
    "scrolled": true
   },
   "outputs": [
    {
     "name": "stdout",
     "output_type": "stream",
     "text": [
      "+temp\n",
      "   VIF Factor   features\n",
      "0         8.3  Intercept\n",
      "1         1.0       temp\n",
      "+temp+hum\n",
      "   VIF Factor   features\n",
      "0        25.2  Intercept\n",
      "1         1.0       temp\n",
      "2         1.0        hum\n",
      "+temp+hum+atemp\n",
      "   VIF Factor   features\n",
      "0        26.9  Intercept\n",
      "1        61.0       temp\n",
      "2         1.0        hum\n",
      "3        61.2      atemp\n",
      "+temp+hum+atemp+windspeed\n",
      "   VIF Factor   features\n",
      "0        45.6  Intercept\n",
      "1        63.0       temp\n",
      "2         1.1        hum\n",
      "3        63.6      atemp\n",
      "4         1.1  windspeed\n"
     ]
    }
   ],
   "source": [
    "features = ''\n",
    "for column in df_subset.columns:\n",
    "    \n",
    "    if(column != 'cnt'):\n",
    "        features +=  '+'+column\n",
    "        print(features) \n",
    "        y, X = dmatrices('cnt ~'+features , df, return_type='dataframe')\n",
    "        vif = pd.DataFrame()\n",
    "        vif[\"VIF Factor\"] = [variance_inflation_factor(X.values, i) for i in range(X.shape[1])]\n",
    "        vif[\"features\"] = X.columns\n",
    "        \"\"\"\n",
    "        tabulating the vif value of differet columns in a variable\n",
    "        \"\"\"\n",
    "        print(vif.round(1))\n",
    "    \n",
    "    \n",
    "   \n",
    "    "
   ]
  },
  {
   "cell_type": "code",
   "execution_count": 36,
   "metadata": {
    "collapsed": true
   },
   "outputs": [],
   "source": [
    "# # %%capture\n",
    "# #gather features\n",
    "\n",
    "# y, X = dmatrices('cnt ~'+features , df, return_type='dataframe')"
   ]
  },
  {
   "cell_type": "code",
   "execution_count": 37,
   "metadata": {
    "collapsed": true
   },
   "outputs": [],
   "source": [
    "# # For each X, calculate VIF and save in dataframe\n",
    "# vif = pd.DataFrame()\n",
    "# vif[\"VIF Factor\"] = [variance_inflation_factor(X.values, i) for i in range(X.shape[1])]\n",
    "# vif[\"features\"] = X.columns"
   ]
  },
  {
   "cell_type": "code",
   "execution_count": 38,
   "metadata": {},
   "outputs": [],
   "source": [
    "# \"\"\"\n",
    "# tabulating the vif value of differet columns in a variable\n",
    "# \"\"\"\n",
    "# vif.round(1)"
   ]
  },
  {
   "cell_type": "markdown",
   "metadata": {},
   "source": [
    "<p>As from the above table we can say thet temp and  atemp has very high value of VIF so they both are \n",
    "explaining the same variance of data so we can drop one of the other</p>"
   ]
  },
  {
   "cell_type": "code",
   "execution_count": 39,
   "metadata": {},
   "outputs": [
    {
     "data": {
      "image/png": "[encoded data removed]",
      "text/plain": [
       "<matplotlib.figure.Figure at 0x7f554de57e48>"
      ]
     },
     "metadata": {},
     "output_type": "display_data"
    }
   ],
   "source": [
    "\"\"\"\n",
    "Also displaying correlation plot to detect the collinearity in data \n",
    "\"\"\"\n",
    "f, ax = plt.subplots(figsize=(10, 8))\n",
    "corr =df.corr()\n",
    "sns.heatmap(corr, mask=np.zeros_like(corr, dtype=np.bool), cmap=sns.diverging_palette(220, 10, as_cmap=True),\n",
    "            square=True, ax=ax)\n",
    "plt.show()"
   ]
  },
  {
   "cell_type": "markdown",
   "metadata": {},
   "source": [
    "<h4>As from the correlation plot we can see there is high relation between</h4>\n",
    "<ul>\n",
    "<li>1.temp and atemp </li>\n",
    "<li> casual ,registered,cnt</li>\n",
    "<ul>"
   ]
  },
  {
   "cell_type": "markdown",
   "metadata": {},
   "source": [
    "So we can remove on of the two variable from temp and atemp\n",
    "\n",
    "and also cnt is summation of registered and casual so we can just keep cnt as it contains summation value of two variables and are highly correlated"
   ]
  },
  {
   "cell_type": "code",
   "execution_count": 40,
   "metadata": {
    "collapsed": true
   },
   "outputs": [],
   "source": [
    "df  = df.drop(['instant','registered','casual','temp','dteday'],axis=1)"
   ]
  },
  {
   "cell_type": "code",
   "execution_count": 41,
   "metadata": {},
   "outputs": [
    {
     "data": {
      "image/png": "[encoded data removed]",
      "text/plain": [
       "<matplotlib.figure.Figure at 0x7f554dda3748>"
      ]
     },
     "metadata": {},
     "output_type": "display_data"
    }
   ],
   "source": [
    "f, ax = plt.subplots(figsize=(10, 8))\n",
    "corr =df.corr()\n",
    "sns.heatmap(corr, mask=np.zeros_like(corr, dtype=np.bool), cmap=sns.diverging_palette(220, 10, as_cmap=True),\n",
    "            square=True, ax=ax)\n",
    "plt.show()"
   ]
  },
  {
   "cell_type": "code",
   "execution_count": 42,
   "metadata": {},
   "outputs": [
    {
     "data": {
      "text/html": [
       "<div>\n",
       "<style>\n",
       "    .dataframe thead tr:only-child th {\n",
       "        text-align: right;\n",
       "    }\n",
       "\n",
       "    .dataframe thead th {\n",
       "        text-align: left;\n",
       "    }\n",
       "\n",
       "    .dataframe tbody tr th {\n",
       "        vertical-align: top;\n",
       "    }\n",
       "</style>\n",
       "<table border=\"1\" class=\"dataframe\">\n",
       "  <thead>\n",
       "    <tr style=\"text-align: right;\">\n",
       "      <th></th>\n",
       "      <th>season</th>\n",
       "      <th>yr</th>\n",
       "      <th>mnth</th>\n",
       "      <th>holiday</th>\n",
       "      <th>weekday</th>\n",
       "      <th>workingday</th>\n",
       "      <th>weathersit</th>\n",
       "      <th>atemp</th>\n",
       "      <th>hum</th>\n",
       "      <th>windspeed</th>\n",
       "      <th>cnt</th>\n",
       "    </tr>\n",
       "  </thead>\n",
       "  <tbody>\n",
       "    <tr>\n",
       "      <th>0</th>\n",
       "      <td>1</td>\n",
       "      <td>0</td>\n",
       "      <td>1</td>\n",
       "      <td>0</td>\n",
       "      <td>6</td>\n",
       "      <td>0</td>\n",
       "      <td>2</td>\n",
       "      <td>0.363625</td>\n",
       "      <td>0.805833</td>\n",
       "      <td>0.160446</td>\n",
       "      <td>985</td>\n",
       "    </tr>\n",
       "    <tr>\n",
       "      <th>1</th>\n",
       "      <td>1</td>\n",
       "      <td>0</td>\n",
       "      <td>1</td>\n",
       "      <td>0</td>\n",
       "      <td>0</td>\n",
       "      <td>0</td>\n",
       "      <td>2</td>\n",
       "      <td>0.353739</td>\n",
       "      <td>0.696087</td>\n",
       "      <td>0.248539</td>\n",
       "      <td>801</td>\n",
       "    </tr>\n",
       "    <tr>\n",
       "      <th>2</th>\n",
       "      <td>1</td>\n",
       "      <td>0</td>\n",
       "      <td>1</td>\n",
       "      <td>0</td>\n",
       "      <td>1</td>\n",
       "      <td>1</td>\n",
       "      <td>1</td>\n",
       "      <td>0.189405</td>\n",
       "      <td>0.437273</td>\n",
       "      <td>0.248309</td>\n",
       "      <td>1349</td>\n",
       "    </tr>\n",
       "    <tr>\n",
       "      <th>3</th>\n",
       "      <td>1</td>\n",
       "      <td>0</td>\n",
       "      <td>1</td>\n",
       "      <td>0</td>\n",
       "      <td>2</td>\n",
       "      <td>1</td>\n",
       "      <td>1</td>\n",
       "      <td>0.212122</td>\n",
       "      <td>0.590435</td>\n",
       "      <td>0.160296</td>\n",
       "      <td>1562</td>\n",
       "    </tr>\n",
       "    <tr>\n",
       "      <th>4</th>\n",
       "      <td>1</td>\n",
       "      <td>0</td>\n",
       "      <td>1</td>\n",
       "      <td>0</td>\n",
       "      <td>3</td>\n",
       "      <td>1</td>\n",
       "      <td>1</td>\n",
       "      <td>0.229270</td>\n",
       "      <td>0.436957</td>\n",
       "      <td>0.186900</td>\n",
       "      <td>1600</td>\n",
       "    </tr>\n",
       "  </tbody>\n",
       "</table>\n",
       "</div>"
      ],
      "text/plain": [
       "   season  yr  mnth  holiday  weekday  workingday  weathersit     atemp  \\\n",
       "0       1   0     1        0        6           0           2  0.363625   \n",
       "1       1   0     1        0        0           0           2  0.353739   \n",
       "2       1   0     1        0        1           1           1  0.189405   \n",
       "3       1   0     1        0        2           1           1  0.212122   \n",
       "4       1   0     1        0        3           1           1  0.229270   \n",
       "\n",
       "        hum  windspeed   cnt  \n",
       "0  0.805833   0.160446   985  \n",
       "1  0.696087   0.248539   801  \n",
       "2  0.437273   0.248309  1349  \n",
       "3  0.590435   0.160296  1562  \n",
       "4  0.436957   0.186900  1600  "
      ]
     },
     "execution_count": 42,
     "metadata": {},
     "output_type": "execute_result"
    }
   ],
   "source": [
    "df.head()"
   ]
  },
  {
   "cell_type": "code",
   "execution_count": 43,
   "metadata": {},
   "outputs": [
    {
     "data": {
      "image/png": "[encoded data removed]",
      "text/plain": [
       "<matplotlib.figure.Figure at 0x7f554de76cf8>"
      ]
     },
     "metadata": {},
     "output_type": "display_data"
    }
   ],
   "source": [
    "corrs = df.corr()\n",
    "corrs['cnt'].plot.bar(color = 'b');\n",
    "plt.title('cnt');\n",
    "plt.show()"
   ]
  },
  {
   "cell_type": "code",
   "execution_count": 44,
   "metadata": {
    "collapsed": true
   },
   "outputs": [],
   "source": [
    "#As we cannot feed categorical data in some regression models like linear regression \n",
    "#so we will convert the data in to numerical one.\n",
    "#converting season,weathersit,yr,mnth\n",
    "#We are not required to convert working day or holiday as they cotain value only zero or one\n",
    "cat_columns = ['season','weathersit','yr','mnth']\n",
    "df = pd.get_dummies(df, prefix_sep=\"__\",\n",
    "                               columns=cat_columns)"
   ]
  },
  {
   "cell_type": "code",
   "execution_count": 45,
   "metadata": {},
   "outputs": [
    {
     "data": {
      "image/png": "[encoded data removed]",
      "text/plain": [
       "<matplotlib.figure.Figure at 0x7f5556171860>"
      ]
     },
     "metadata": {},
     "output_type": "display_data"
    }
   ],
   "source": [
    "plt.boxplot(df['windspeed'])\n",
    "plt.xlabel('windspeed')\n",
    "plt.show()"
   ]
  },
  {
   "cell_type": "code",
   "execution_count": 46,
   "metadata": {},
   "outputs": [
    {
     "data": {
      "image/png": "[encoded data removed]",
      "text/plain": [
       "<matplotlib.figure.Figure at 0x7f554e2b8518>"
      ]
     },
     "metadata": {},
     "output_type": "display_data"
    }
   ],
   "source": [
    "plt.boxplot(df['hum'])\n",
    "plt.xlabel('hum')\n",
    "plt.show()"
   ]
  },
  {
   "cell_type": "code",
   "execution_count": 47,
   "metadata": {},
   "outputs": [
    {
     "data": {
      "image/png": "[encoded data removed]",
      "text/plain": [
       "<matplotlib.figure.Figure at 0x7f554df1a4a8>"
      ]
     },
     "metadata": {},
     "output_type": "display_data"
    }
   ],
   "source": [
    "plt.boxplot(df['atemp'])\n",
    "plt.xlabel('atemp')\n",
    "plt.show()"
   ]
  },
  {
   "cell_type": "code",
   "execution_count": 48,
   "metadata": {},
   "outputs": [
    {
     "name": "stdout",
     "output_type": "stream",
     "text": [
      "atemp\n",
      "-0.06829675\n",
      "1.01474125\n",
      "hum\n",
      "0.20468725\n",
      "1.04552125\n",
      "windspeed\n",
      "-0.012431\n",
      "0.380585\n"
     ]
    }
   ],
   "source": [
    "#Detect & Delete Outliers\n",
    "cnames = [\"atemp\",\"hum\",\"windspeed\"]\n",
    "for i in cnames :\n",
    "    print (i)\n",
    "    q75,q25 = np.percentile(df.loc[:,i],[75,25])\n",
    "    iqr = q75-q25\n",
    "    \n",
    "    min = q25 - (iqr*1.5)\n",
    "    max = q75 + (iqr*1.5)\n",
    "    print (min)\n",
    "    print (max)\n",
    "    \n",
    "    df =df.drop(df[df.loc[:,i] < min].index)\n",
    "    df = df.drop(df[df.loc[:,i] > max].index)\n"
   ]
  },
  {
   "cell_type": "code",
   "execution_count": 49,
   "metadata": {},
   "outputs": [
    {
     "data": {
      "image/png": "[encoded data removed]",
      "text/plain": [
       "<matplotlib.figure.Figure at 0x7f554e28a2b0>"
      ]
     },
     "metadata": {},
     "output_type": "display_data"
    }
   ],
   "source": [
    "plt.boxplot(df['windspeed'])\n",
    "plt.show()"
   ]
  },
  {
   "cell_type": "code",
   "execution_count": 50,
   "metadata": {},
   "outputs": [
    {
     "data": {
      "image/png": "[encoded data removed]",
      "text/plain": [
       "<matplotlib.figure.Figure at 0x7f554e055828>"
      ]
     },
     "metadata": {},
     "output_type": "display_data"
    }
   ],
   "source": [
    "plt.boxplot(df['hum'])\n",
    "plt.show()"
   ]
  },
  {
   "cell_type": "code",
   "execution_count": 51,
   "metadata": {},
   "outputs": [
    {
     "data": {
      "image/png": "[encoded data removed]",
      "text/plain": [
       "<matplotlib.figure.Figure at 0x7f554dfde358>"
      ]
     },
     "metadata": {},
     "output_type": "display_data"
    }
   ],
   "source": [
    "plt.boxplot(df['atemp'])\n",
    "plt.show()"
   ]
  },
  {
   "cell_type": "code",
   "execution_count": 52,
   "metadata": {},
   "outputs": [
    {
     "data": {
      "text/html": [
       "<div>\n",
       "<style>\n",
       "    .dataframe thead tr:only-child th {\n",
       "        text-align: right;\n",
       "    }\n",
       "\n",
       "    .dataframe thead th {\n",
       "        text-align: left;\n",
       "    }\n",
       "\n",
       "    .dataframe tbody tr th {\n",
       "        vertical-align: top;\n",
       "    }\n",
       "</style>\n",
       "<table border=\"1\" class=\"dataframe\">\n",
       "  <thead>\n",
       "    <tr style=\"text-align: right;\">\n",
       "      <th></th>\n",
       "      <th>holiday</th>\n",
       "      <th>weekday</th>\n",
       "      <th>workingday</th>\n",
       "      <th>atemp</th>\n",
       "      <th>hum</th>\n",
       "      <th>windspeed</th>\n",
       "      <th>cnt</th>\n",
       "      <th>season__1</th>\n",
       "      <th>season__2</th>\n",
       "      <th>season__3</th>\n",
       "      <th>...</th>\n",
       "      <th>mnth__3</th>\n",
       "      <th>mnth__4</th>\n",
       "      <th>mnth__5</th>\n",
       "      <th>mnth__6</th>\n",
       "      <th>mnth__7</th>\n",
       "      <th>mnth__8</th>\n",
       "      <th>mnth__9</th>\n",
       "      <th>mnth__10</th>\n",
       "      <th>mnth__11</th>\n",
       "      <th>mnth__12</th>\n",
       "    </tr>\n",
       "  </thead>\n",
       "  <tbody>\n",
       "    <tr>\n",
       "      <th>0</th>\n",
       "      <td>0</td>\n",
       "      <td>6</td>\n",
       "      <td>0</td>\n",
       "      <td>0.363625</td>\n",
       "      <td>0.805833</td>\n",
       "      <td>0.160446</td>\n",
       "      <td>985</td>\n",
       "      <td>1</td>\n",
       "      <td>0</td>\n",
       "      <td>0</td>\n",
       "      <td>...</td>\n",
       "      <td>0</td>\n",
       "      <td>0</td>\n",
       "      <td>0</td>\n",
       "      <td>0</td>\n",
       "      <td>0</td>\n",
       "      <td>0</td>\n",
       "      <td>0</td>\n",
       "      <td>0</td>\n",
       "      <td>0</td>\n",
       "      <td>0</td>\n",
       "    </tr>\n",
       "    <tr>\n",
       "      <th>1</th>\n",
       "      <td>0</td>\n",
       "      <td>0</td>\n",
       "      <td>0</td>\n",
       "      <td>0.353739</td>\n",
       "      <td>0.696087</td>\n",
       "      <td>0.248539</td>\n",
       "      <td>801</td>\n",
       "      <td>1</td>\n",
       "      <td>0</td>\n",
       "      <td>0</td>\n",
       "      <td>...</td>\n",
       "      <td>0</td>\n",
       "      <td>0</td>\n",
       "      <td>0</td>\n",
       "      <td>0</td>\n",
       "      <td>0</td>\n",
       "      <td>0</td>\n",
       "      <td>0</td>\n",
       "      <td>0</td>\n",
       "      <td>0</td>\n",
       "      <td>0</td>\n",
       "    </tr>\n",
       "    <tr>\n",
       "      <th>2</th>\n",
       "      <td>0</td>\n",
       "      <td>1</td>\n",
       "      <td>1</td>\n",
       "      <td>0.189405</td>\n",
       "      <td>0.437273</td>\n",
       "      <td>0.248309</td>\n",
       "      <td>1349</td>\n",
       "      <td>1</td>\n",
       "      <td>0</td>\n",
       "      <td>0</td>\n",
       "      <td>...</td>\n",
       "      <td>0</td>\n",
       "      <td>0</td>\n",
       "      <td>0</td>\n",
       "      <td>0</td>\n",
       "      <td>0</td>\n",
       "      <td>0</td>\n",
       "      <td>0</td>\n",
       "      <td>0</td>\n",
       "      <td>0</td>\n",
       "      <td>0</td>\n",
       "    </tr>\n",
       "    <tr>\n",
       "      <th>3</th>\n",
       "      <td>0</td>\n",
       "      <td>2</td>\n",
       "      <td>1</td>\n",
       "      <td>0.212122</td>\n",
       "      <td>0.590435</td>\n",
       "      <td>0.160296</td>\n",
       "      <td>1562</td>\n",
       "      <td>1</td>\n",
       "      <td>0</td>\n",
       "      <td>0</td>\n",
       "      <td>...</td>\n",
       "      <td>0</td>\n",
       "      <td>0</td>\n",
       "      <td>0</td>\n",
       "      <td>0</td>\n",
       "      <td>0</td>\n",
       "      <td>0</td>\n",
       "      <td>0</td>\n",
       "      <td>0</td>\n",
       "      <td>0</td>\n",
       "      <td>0</td>\n",
       "    </tr>\n",
       "    <tr>\n",
       "      <th>4</th>\n",
       "      <td>0</td>\n",
       "      <td>3</td>\n",
       "      <td>1</td>\n",
       "      <td>0.229270</td>\n",
       "      <td>0.436957</td>\n",
       "      <td>0.186900</td>\n",
       "      <td>1600</td>\n",
       "      <td>1</td>\n",
       "      <td>0</td>\n",
       "      <td>0</td>\n",
       "      <td>...</td>\n",
       "      <td>0</td>\n",
       "      <td>0</td>\n",
       "      <td>0</td>\n",
       "      <td>0</td>\n",
       "      <td>0</td>\n",
       "      <td>0</td>\n",
       "      <td>0</td>\n",
       "      <td>0</td>\n",
       "      <td>0</td>\n",
       "      <td>0</td>\n",
       "    </tr>\n",
       "  </tbody>\n",
       "</table>\n",
       "<p>5 rows × 28 columns</p>\n",
       "</div>"
      ],
      "text/plain": [
       "   holiday  weekday  workingday     atemp       hum  windspeed   cnt  \\\n",
       "0        0        6           0  0.363625  0.805833   0.160446   985   \n",
       "1        0        0           0  0.353739  0.696087   0.248539   801   \n",
       "2        0        1           1  0.189405  0.437273   0.248309  1349   \n",
       "3        0        2           1  0.212122  0.590435   0.160296  1562   \n",
       "4        0        3           1  0.229270  0.436957   0.186900  1600   \n",
       "\n",
       "   season__1  season__2  season__3    ...     mnth__3  mnth__4  mnth__5  \\\n",
       "0          1          0          0    ...           0        0        0   \n",
       "1          1          0          0    ...           0        0        0   \n",
       "2          1          0          0    ...           0        0        0   \n",
       "3          1          0          0    ...           0        0        0   \n",
       "4          1          0          0    ...           0        0        0   \n",
       "\n",
       "   mnth__6  mnth__7  mnth__8  mnth__9  mnth__10  mnth__11  mnth__12  \n",
       "0        0        0        0        0         0         0         0  \n",
       "1        0        0        0        0         0         0         0  \n",
       "2        0        0        0        0         0         0         0  \n",
       "3        0        0        0        0         0         0         0  \n",
       "4        0        0        0        0         0         0         0  \n",
       "\n",
       "[5 rows x 28 columns]"
      ]
     },
     "execution_count": 52,
     "metadata": {},
     "output_type": "execute_result"
    }
   ],
   "source": [
    "df.head()"
   ]
  },
  {
   "cell_type": "code",
   "execution_count": 53,
   "metadata": {
    "collapsed": true
   },
   "outputs": [],
   "source": [
    "\"\"\"\n",
    "We can split our data in 80:20\n",
    "where 80% data will be our training data and 20% data will be our test data\n",
    "\"\"\"\n",
    "train, test = train_test_split(df, test_size=0.2)"
   ]
  },
  {
   "cell_type": "code",
   "execution_count": 54,
   "metadata": {},
   "outputs": [
    {
     "data": {
      "text/html": [
       "<div>\n",
       "<style>\n",
       "    .dataframe thead tr:only-child th {\n",
       "        text-align: right;\n",
       "    }\n",
       "\n",
       "    .dataframe thead th {\n",
       "        text-align: left;\n",
       "    }\n",
       "\n",
       "    .dataframe tbody tr th {\n",
       "        vertical-align: top;\n",
       "    }\n",
       "</style>\n",
       "<table border=\"1\" class=\"dataframe\">\n",
       "  <thead>\n",
       "    <tr style=\"text-align: right;\">\n",
       "      <th></th>\n",
       "      <th>holiday</th>\n",
       "      <th>weekday</th>\n",
       "      <th>workingday</th>\n",
       "      <th>atemp</th>\n",
       "      <th>hum</th>\n",
       "      <th>windspeed</th>\n",
       "      <th>cnt</th>\n",
       "      <th>season__1</th>\n",
       "      <th>season__2</th>\n",
       "      <th>season__3</th>\n",
       "      <th>...</th>\n",
       "      <th>mnth__3</th>\n",
       "      <th>mnth__4</th>\n",
       "      <th>mnth__5</th>\n",
       "      <th>mnth__6</th>\n",
       "      <th>mnth__7</th>\n",
       "      <th>mnth__8</th>\n",
       "      <th>mnth__9</th>\n",
       "      <th>mnth__10</th>\n",
       "      <th>mnth__11</th>\n",
       "      <th>mnth__12</th>\n",
       "    </tr>\n",
       "  </thead>\n",
       "  <tbody>\n",
       "    <tr>\n",
       "      <th>725</th>\n",
       "      <td>0</td>\n",
       "      <td>3</td>\n",
       "      <td>1</td>\n",
       "      <td>0.220333</td>\n",
       "      <td>0.823333</td>\n",
       "      <td>0.316546</td>\n",
       "      <td>441</td>\n",
       "      <td>1</td>\n",
       "      <td>0</td>\n",
       "      <td>0</td>\n",
       "      <td>...</td>\n",
       "      <td>0</td>\n",
       "      <td>0</td>\n",
       "      <td>0</td>\n",
       "      <td>0</td>\n",
       "      <td>0</td>\n",
       "      <td>0</td>\n",
       "      <td>0</td>\n",
       "      <td>0</td>\n",
       "      <td>0</td>\n",
       "      <td>1</td>\n",
       "    </tr>\n",
       "    <tr>\n",
       "      <th>559</th>\n",
       "      <td>0</td>\n",
       "      <td>5</td>\n",
       "      <td>1</td>\n",
       "      <td>0.667933</td>\n",
       "      <td>0.485833</td>\n",
       "      <td>0.080850</td>\n",
       "      <td>7499</td>\n",
       "      <td>0</td>\n",
       "      <td>0</td>\n",
       "      <td>1</td>\n",
       "      <td>...</td>\n",
       "      <td>0</td>\n",
       "      <td>0</td>\n",
       "      <td>0</td>\n",
       "      <td>0</td>\n",
       "      <td>1</td>\n",
       "      <td>0</td>\n",
       "      <td>0</td>\n",
       "      <td>0</td>\n",
       "      <td>0</td>\n",
       "      <td>0</td>\n",
       "    </tr>\n",
       "    <tr>\n",
       "      <th>344</th>\n",
       "      <td>0</td>\n",
       "      <td>0</td>\n",
       "      <td>0</td>\n",
       "      <td>0.253154</td>\n",
       "      <td>0.490000</td>\n",
       "      <td>0.066542</td>\n",
       "      <td>2743</td>\n",
       "      <td>0</td>\n",
       "      <td>0</td>\n",
       "      <td>0</td>\n",
       "      <td>...</td>\n",
       "      <td>0</td>\n",
       "      <td>0</td>\n",
       "      <td>0</td>\n",
       "      <td>0</td>\n",
       "      <td>0</td>\n",
       "      <td>0</td>\n",
       "      <td>0</td>\n",
       "      <td>0</td>\n",
       "      <td>0</td>\n",
       "      <td>1</td>\n",
       "    </tr>\n",
       "    <tr>\n",
       "      <th>351</th>\n",
       "      <td>0</td>\n",
       "      <td>0</td>\n",
       "      <td>0</td>\n",
       "      <td>0.245579</td>\n",
       "      <td>0.586250</td>\n",
       "      <td>0.169779</td>\n",
       "      <td>2431</td>\n",
       "      <td>0</td>\n",
       "      <td>0</td>\n",
       "      <td>0</td>\n",
       "      <td>...</td>\n",
       "      <td>0</td>\n",
       "      <td>0</td>\n",
       "      <td>0</td>\n",
       "      <td>0</td>\n",
       "      <td>0</td>\n",
       "      <td>0</td>\n",
       "      <td>0</td>\n",
       "      <td>0</td>\n",
       "      <td>0</td>\n",
       "      <td>1</td>\n",
       "    </tr>\n",
       "    <tr>\n",
       "      <th>404</th>\n",
       "      <td>0</td>\n",
       "      <td>4</td>\n",
       "      <td>1</td>\n",
       "      <td>0.261988</td>\n",
       "      <td>0.562083</td>\n",
       "      <td>0.194037</td>\n",
       "      <td>3830</td>\n",
       "      <td>1</td>\n",
       "      <td>0</td>\n",
       "      <td>0</td>\n",
       "      <td>...</td>\n",
       "      <td>0</td>\n",
       "      <td>0</td>\n",
       "      <td>0</td>\n",
       "      <td>0</td>\n",
       "      <td>0</td>\n",
       "      <td>0</td>\n",
       "      <td>0</td>\n",
       "      <td>0</td>\n",
       "      <td>0</td>\n",
       "      <td>0</td>\n",
       "    </tr>\n",
       "  </tbody>\n",
       "</table>\n",
       "<p>5 rows × 28 columns</p>\n",
       "</div>"
      ],
      "text/plain": [
       "     holiday  weekday  workingday     atemp       hum  windspeed   cnt  \\\n",
       "725        0        3           1  0.220333  0.823333   0.316546   441   \n",
       "559        0        5           1  0.667933  0.485833   0.080850  7499   \n",
       "344        0        0           0  0.253154  0.490000   0.066542  2743   \n",
       "351        0        0           0  0.245579  0.586250   0.169779  2431   \n",
       "404        0        4           1  0.261988  0.562083   0.194037  3830   \n",
       "\n",
       "     season__1  season__2  season__3    ...     mnth__3  mnth__4  mnth__5  \\\n",
       "725          1          0          0    ...           0        0        0   \n",
       "559          0          0          1    ...           0        0        0   \n",
       "344          0          0          0    ...           0        0        0   \n",
       "351          0          0          0    ...           0        0        0   \n",
       "404          1          0          0    ...           0        0        0   \n",
       "\n",
       "     mnth__6  mnth__7  mnth__8  mnth__9  mnth__10  mnth__11  mnth__12  \n",
       "725        0        0        0        0         0         0         1  \n",
       "559        0        1        0        0         0         0         0  \n",
       "344        0        0        0        0         0         0         1  \n",
       "351        0        0        0        0         0         0         1  \n",
       "404        0        0        0        0         0         0         0  \n",
       "\n",
       "[5 rows x 28 columns]"
      ]
     },
     "execution_count": 54,
     "metadata": {},
     "output_type": "execute_result"
    }
   ],
   "source": [
    "train.head()"
   ]
  },
  {
   "cell_type": "code",
   "execution_count": 55,
   "metadata": {
    "collapsed": true
   },
   "outputs": [],
   "source": [
    "X_train = train.drop(['cnt'],axis = 1)\n",
    "Y_train = train[['cnt']]\n",
    "\n",
    "\n",
    "X_test = test.drop(['cnt'],axis = 1)\n",
    "Y_test = test[['cnt']]"
   ]
  },
  {
   "cell_type": "code",
   "execution_count": 56,
   "metadata": {},
   "outputs": [
    {
     "data": {
      "text/html": [
       "<div>\n",
       "<style>\n",
       "    .dataframe thead tr:only-child th {\n",
       "        text-align: right;\n",
       "    }\n",
       "\n",
       "    .dataframe thead th {\n",
       "        text-align: left;\n",
       "    }\n",
       "\n",
       "    .dataframe tbody tr th {\n",
       "        vertical-align: top;\n",
       "    }\n",
       "</style>\n",
       "<table border=\"1\" class=\"dataframe\">\n",
       "  <thead>\n",
       "    <tr style=\"text-align: right;\">\n",
       "      <th></th>\n",
       "      <th>holiday</th>\n",
       "      <th>weekday</th>\n",
       "      <th>workingday</th>\n",
       "      <th>atemp</th>\n",
       "      <th>hum</th>\n",
       "      <th>windspeed</th>\n",
       "      <th>season__1</th>\n",
       "      <th>season__2</th>\n",
       "      <th>season__3</th>\n",
       "      <th>season__4</th>\n",
       "      <th>...</th>\n",
       "      <th>mnth__3</th>\n",
       "      <th>mnth__4</th>\n",
       "      <th>mnth__5</th>\n",
       "      <th>mnth__6</th>\n",
       "      <th>mnth__7</th>\n",
       "      <th>mnth__8</th>\n",
       "      <th>mnth__9</th>\n",
       "      <th>mnth__10</th>\n",
       "      <th>mnth__11</th>\n",
       "      <th>mnth__12</th>\n",
       "    </tr>\n",
       "  </thead>\n",
       "  <tbody>\n",
       "    <tr>\n",
       "      <th>725</th>\n",
       "      <td>0</td>\n",
       "      <td>3</td>\n",
       "      <td>1</td>\n",
       "      <td>0.220333</td>\n",
       "      <td>0.823333</td>\n",
       "      <td>0.316546</td>\n",
       "      <td>1</td>\n",
       "      <td>0</td>\n",
       "      <td>0</td>\n",
       "      <td>0</td>\n",
       "      <td>...</td>\n",
       "      <td>0</td>\n",
       "      <td>0</td>\n",
       "      <td>0</td>\n",
       "      <td>0</td>\n",
       "      <td>0</td>\n",
       "      <td>0</td>\n",
       "      <td>0</td>\n",
       "      <td>0</td>\n",
       "      <td>0</td>\n",
       "      <td>1</td>\n",
       "    </tr>\n",
       "    <tr>\n",
       "      <th>559</th>\n",
       "      <td>0</td>\n",
       "      <td>5</td>\n",
       "      <td>1</td>\n",
       "      <td>0.667933</td>\n",
       "      <td>0.485833</td>\n",
       "      <td>0.080850</td>\n",
       "      <td>0</td>\n",
       "      <td>0</td>\n",
       "      <td>1</td>\n",
       "      <td>0</td>\n",
       "      <td>...</td>\n",
       "      <td>0</td>\n",
       "      <td>0</td>\n",
       "      <td>0</td>\n",
       "      <td>0</td>\n",
       "      <td>1</td>\n",
       "      <td>0</td>\n",
       "      <td>0</td>\n",
       "      <td>0</td>\n",
       "      <td>0</td>\n",
       "      <td>0</td>\n",
       "    </tr>\n",
       "    <tr>\n",
       "      <th>344</th>\n",
       "      <td>0</td>\n",
       "      <td>0</td>\n",
       "      <td>0</td>\n",
       "      <td>0.253154</td>\n",
       "      <td>0.490000</td>\n",
       "      <td>0.066542</td>\n",
       "      <td>0</td>\n",
       "      <td>0</td>\n",
       "      <td>0</td>\n",
       "      <td>1</td>\n",
       "      <td>...</td>\n",
       "      <td>0</td>\n",
       "      <td>0</td>\n",
       "      <td>0</td>\n",
       "      <td>0</td>\n",
       "      <td>0</td>\n",
       "      <td>0</td>\n",
       "      <td>0</td>\n",
       "      <td>0</td>\n",
       "      <td>0</td>\n",
       "      <td>1</td>\n",
       "    </tr>\n",
       "    <tr>\n",
       "      <th>351</th>\n",
       "      <td>0</td>\n",
       "      <td>0</td>\n",
       "      <td>0</td>\n",
       "      <td>0.245579</td>\n",
       "      <td>0.586250</td>\n",
       "      <td>0.169779</td>\n",
       "      <td>0</td>\n",
       "      <td>0</td>\n",
       "      <td>0</td>\n",
       "      <td>1</td>\n",
       "      <td>...</td>\n",
       "      <td>0</td>\n",
       "      <td>0</td>\n",
       "      <td>0</td>\n",
       "      <td>0</td>\n",
       "      <td>0</td>\n",
       "      <td>0</td>\n",
       "      <td>0</td>\n",
       "      <td>0</td>\n",
       "      <td>0</td>\n",
       "      <td>1</td>\n",
       "    </tr>\n",
       "    <tr>\n",
       "      <th>404</th>\n",
       "      <td>0</td>\n",
       "      <td>4</td>\n",
       "      <td>1</td>\n",
       "      <td>0.261988</td>\n",
       "      <td>0.562083</td>\n",
       "      <td>0.194037</td>\n",
       "      <td>1</td>\n",
       "      <td>0</td>\n",
       "      <td>0</td>\n",
       "      <td>0</td>\n",
       "      <td>...</td>\n",
       "      <td>0</td>\n",
       "      <td>0</td>\n",
       "      <td>0</td>\n",
       "      <td>0</td>\n",
       "      <td>0</td>\n",
       "      <td>0</td>\n",
       "      <td>0</td>\n",
       "      <td>0</td>\n",
       "      <td>0</td>\n",
       "      <td>0</td>\n",
       "    </tr>\n",
       "  </tbody>\n",
       "</table>\n",
       "<p>5 rows × 27 columns</p>\n",
       "</div>"
      ],
      "text/plain": [
       "     holiday  weekday  workingday     atemp       hum  windspeed  season__1  \\\n",
       "725        0        3           1  0.220333  0.823333   0.316546          1   \n",
       "559        0        5           1  0.667933  0.485833   0.080850          0   \n",
       "344        0        0           0  0.253154  0.490000   0.066542          0   \n",
       "351        0        0           0  0.245579  0.586250   0.169779          0   \n",
       "404        0        4           1  0.261988  0.562083   0.194037          1   \n",
       "\n",
       "     season__2  season__3  season__4    ...     mnth__3  mnth__4  mnth__5  \\\n",
       "725          0          0          0    ...           0        0        0   \n",
       "559          0          1          0    ...           0        0        0   \n",
       "344          0          0          1    ...           0        0        0   \n",
       "351          0          0          1    ...           0        0        0   \n",
       "404          0          0          0    ...           0        0        0   \n",
       "\n",
       "     mnth__6  mnth__7  mnth__8  mnth__9  mnth__10  mnth__11  mnth__12  \n",
       "725        0        0        0        0         0         0         1  \n",
       "559        0        1        0        0         0         0         0  \n",
       "344        0        0        0        0         0         0         1  \n",
       "351        0        0        0        0         0         0         1  \n",
       "404        0        0        0        0         0         0         0  \n",
       "\n",
       "[5 rows x 27 columns]"
      ]
     },
     "execution_count": 56,
     "metadata": {},
     "output_type": "execute_result"
    }
   ],
   "source": [
    "X_train.head()"
   ]
  },
  {
   "cell_type": "code",
   "execution_count": 57,
   "metadata": {},
   "outputs": [
    {
     "data": {
      "text/html": [
       "<div>\n",
       "<style>\n",
       "    .dataframe thead tr:only-child th {\n",
       "        text-align: right;\n",
       "    }\n",
       "\n",
       "    .dataframe thead th {\n",
       "        text-align: left;\n",
       "    }\n",
       "\n",
       "    .dataframe tbody tr th {\n",
       "        vertical-align: top;\n",
       "    }\n",
       "</style>\n",
       "<table border=\"1\" class=\"dataframe\">\n",
       "  <thead>\n",
       "    <tr style=\"text-align: right;\">\n",
       "      <th></th>\n",
       "      <th>cnt</th>\n",
       "    </tr>\n",
       "  </thead>\n",
       "  <tbody>\n",
       "    <tr>\n",
       "      <th>725</th>\n",
       "      <td>441</td>\n",
       "    </tr>\n",
       "    <tr>\n",
       "      <th>559</th>\n",
       "      <td>7499</td>\n",
       "    </tr>\n",
       "    <tr>\n",
       "      <th>344</th>\n",
       "      <td>2743</td>\n",
       "    </tr>\n",
       "    <tr>\n",
       "      <th>351</th>\n",
       "      <td>2431</td>\n",
       "    </tr>\n",
       "    <tr>\n",
       "      <th>404</th>\n",
       "      <td>3830</td>\n",
       "    </tr>\n",
       "  </tbody>\n",
       "</table>\n",
       "</div>"
      ],
      "text/plain": [
       "      cnt\n",
       "725   441\n",
       "559  7499\n",
       "344  2743\n",
       "351  2431\n",
       "404  3830"
      ]
     },
     "execution_count": 57,
     "metadata": {},
     "output_type": "execute_result"
    }
   ],
   "source": [
    "Y_train.head()"
   ]
  },
  {
   "cell_type": "code",
   "execution_count": 58,
   "metadata": {
    "collapsed": true
   },
   "outputs": [],
   "source": [
    "#Calculate MAPE\n",
    "def MAPE(y_true, y_pred): \n",
    "    mape = np.mean(np.abs((y_true - y_pred) / y_true))*100\n",
    "    \n",
    "    \n",
    "    return mape"
   ]
  },
  {
   "cell_type": "code",
   "execution_count": 59,
   "metadata": {
    "collapsed": true
   },
   "outputs": [],
   "source": [
    "def linear_regression(x_train,y_train,x_test,y_test):\n",
    "    regressor = LinearRegression()  \n",
    "    regressor = regressor.fit(x_train, y_train) #training the algorithm\n",
    "    y_pred = regressor.predict(x_train)\n",
    "    rmse_train =  sqrt(mean_squared_error(y_train, y_pred))\n",
    "    \n",
    "#     print(\"rmse for simple linear regression for train data\",rmse_train)\n",
    "    y_pred_test = regressor.predict(x_test)\n",
    "    rmse_test =  sqrt(mean_squared_error(y_test, y_pred_test))\n",
    "    mape_test = MAPE(y_test, y_pred_test)\n",
    "    mape_train = MAPE(y_train, y_pred)\n",
    "    \n",
    "   \n",
    "    SS_Residual = sum((y_test.values-y_pred_test)**2)\n",
    "    \n",
    "   \n",
    "    SS_Total = sum((y_test.values-np.mean(y_test.values))**2)\n",
    "    r_squared = 1 - (float(SS_Residual))/SS_Total\n",
    "    adjusted_r_squared = 1 - (1-r_squared)*(len(y_test)-1)/(len(y_test)-x_test.shape[1]-1)\n",
    "    print(\"R squared\",r_squared) \n",
    "    print(\"adjusted r square\",adjusted_r_squared)\n",
    "    #\n",
    "#     print(\"rmse for simple linear regression for test data\",rmse_test)\n",
    "    return {'rmse_train':rmse_train,'rmse_test':rmse_test,'mape_test':mape_test,'mape_train':mape_train}"
   ]
  },
  {
   "cell_type": "code",
   "execution_count": 60,
   "metadata": {},
   "outputs": [
    {
     "name": "stdout",
     "output_type": "stream",
     "text": [
      "R squared [ 0.83465203]\n",
      "adjusted r square [ 0.79616586]\n"
     ]
    },
    {
     "data": {
      "text/plain": [
       "{'mape_test': cnt    17.159055\n",
       " dtype: float64, 'mape_train': cnt    45.501193\n",
       " dtype: float64, 'rmse_test': 754.2829591045272, 'rmse_train': 761.5231152641477}"
      ]
     },
     "execution_count": 60,
     "metadata": {},
     "output_type": "execute_result"
    }
   ],
   "source": [
    "linear_regression(X_train,Y_train,X_test,Y_test)"
   ]
  },
  {
   "cell_type": "code",
   "execution_count": 61,
   "metadata": {
    "collapsed": true
   },
   "outputs": [],
   "source": [
    "def decision_trees(x_train,y_train,x_test,y_test):\n",
    "    clf =  DecisionTreeRegressor(max_depth=4,\n",
    "                           min_samples_split=5,\n",
    "                           max_leaf_nodes=10)\n",
    "    \n",
    "    \"\"\"\n",
    "    We will be using GridSearchCV for hyperperameter tunning\n",
    "    \"\"\"\n",
    "    param_grid = {\"criterion\": [\"mse\", \"mae\"],\n",
    "              \"min_samples_split\": [10, 20, 40],\n",
    "              \"max_depth\": [2, 6, 8],\n",
    "              \"min_samples_leaf\": [20, 40, 100],\n",
    "              \"max_leaf_nodes\": [5, 20, 100],\n",
    "              }\n",
    "    \n",
    "    grid_cv_dtm = GridSearchCV(clf, param_grid, cv=5)\n",
    "    \n",
    "\n",
    "    grid_cv_dtm = grid_cv_dtm.fit(x_train,y_train)\n",
    "\n",
    "#     clf = clf.fit(x_train, y_train)\n",
    "    y_pred_tree = grid_cv_dtm.predict(x_train)\n",
    "    rmse_train =  sqrt(mean_squared_error(y_train, y_pred_tree))\n",
    "#     print(\"rmse for decision trees for train data\",rmse)\n",
    "    y_pred_tree_test = grid_cv_dtm.predict(x_test)\n",
    "    rmse_test =  sqrt(mean_squared_error(y_test,y_pred_tree_test))\n",
    "    \n",
    "    y_test = np.reshape(y_test,(y_test.shape[0],1))\n",
    "    y_pred_tree_test = np.reshape( y_pred_tree_test,( y_pred_tree_test.shape[0],1))\n",
    "    \n",
    "    mape_test = MAPE(Y_test, y_pred_tree_test)\n",
    "    \n",
    "    print(\"R-Squared::{}\".format(grid_cv_dtm.best_score_)\n",
    "         )\n",
    "    \n",
    "# #for rsquare and adjusted\n",
    "#     SS_Residual = sum((y_test.values-y_pred_tree_test)**2)\n",
    "    \n",
    "   \n",
    "#     SS_Total = sum((y_test.values-np.mean(y_test.values))**2)\n",
    "#     r_squared = 1 - (float(SS_Residual))/SS_Total\n",
    "#     adjusted_r_squared = 1 - (1-r_squared)*(len(y_test)-1)/(len(y_test)-x_test.shape[1]-1)\n",
    "#     print(\"R squared\",r_squared) \n",
    "#     print(\"adjusted r square\",adjusted_r_squared)\n",
    "\n",
    "\n",
    "# ##############\n",
    "    \n",
    "#     print(\"rmse for decision trees for test data\",rmse)\n",
    "    print(mape_test)\n",
    "    return {'rmse_train':rmse_train,'rmse_test':rmse_test}\n"
   ]
  },
  {
   "cell_type": "code",
   "execution_count": 62,
   "metadata": {},
   "outputs": [
    {
     "name": "stdout",
     "output_type": "stream",
     "text": [
      "R-Squared::0.7672579760773294\n",
      "cnt    20.386957\n",
      "dtype: float64\n",
      "decison trees {'rmse_train': 789.494127471757, 'rmse_test': 808.3741667091903}\n"
     ]
    }
   ],
   "source": [
    "decision_trees_rmse = decision_trees(X_train,Y_train,X_test,Y_test)\n",
    "print(\"decison trees\",decision_trees_rmse)"
   ]
  },
  {
   "cell_type": "code",
   "execution_count": 63,
   "metadata": {},
   "outputs": [
    {
     "name": "stdout",
     "output_type": "stream",
     "text": [
      "cnt    22.043841\n",
      "dtype: float64\n",
      "rmse of knn  for train data for dpth 1 is 0.0\n",
      "rmse of knn  for test data for dpth 1 is 1118.4122457255594\n",
      "cnt    22.532125\n",
      "dtype: float64\n",
      "rmse of knn  for train data for dpth 2 is 547.0759201344224\n",
      "rmse of knn  for test data for dpth 2 is 970.1427363122627\n",
      "cnt    21.521145\n",
      "dtype: float64\n",
      "rmse of knn  for train data for dpth 3 is 658.034592493121\n",
      "rmse of knn  for test data for dpth 3 is 862.4488779803877\n",
      "cnt    22.694109\n",
      "dtype: float64\n",
      "rmse of knn  for train data for dpth 4 is 717.516742861855\n",
      "rmse of knn  for test data for dpth 4 is 880.2195415953056\n",
      "cnt    23.205483\n",
      "dtype: float64\n",
      "rmse of knn  for train data for dpth 5 is 741.4002332740247\n",
      "rmse of knn  for test data for dpth 5 is 923.6690286268368\n",
      "cnt    22.492484\n",
      "dtype: float64\n",
      "rmse of knn  for train data for dpth 6 is 763.0771749420813\n",
      "rmse of knn  for test data for dpth 6 is 897.9139912523517\n",
      "cnt    22.710144\n",
      "dtype: float64\n",
      "rmse of knn  for train data for dpth 7 is 804.0293775178066\n",
      "rmse of knn  for test data for dpth 7 is 877.1009589904145\n",
      "cnt    22.979249\n",
      "dtype: float64\n",
      "rmse of knn  for train data for dpth 8 is 817.4368847086065\n",
      "rmse of knn  for test data for dpth 8 is 881.5495699699684\n",
      "cnt    24.309632\n",
      "dtype: float64\n",
      "rmse of knn  for train data for dpth 9 is 848.5291394613045\n",
      "rmse of knn  for test data for dpth 9 is 925.5995491912055\n"
     ]
    }
   ],
   "source": [
    "def knn_model(x_train,y_train,x_test,y_test,n):\n",
    "    neigh = KNeighborsRegressor(n_neighbors=n)\n",
    "    neigh = neigh.fit(X_train,Y_train)\n",
    "    y_pred_tree_knn = neigh.predict(X_train)\n",
    "    rmse_train =  sqrt(mean_squared_error(Y_train,y_pred_tree_knn))\n",
    "#     print(\"rmse of knn for train data for {} neighbour is {}\".format(diff_neighbours[i],rmse))\n",
    "    y_pred_knn_test = neigh.predict(X_test)\n",
    "    rmse_test =  sqrt(mean_squared_error(Y_test,y_pred_knn_test))\n",
    "    \n",
    "    #Reshaping the array as the value which we get from knn is not shaped that we can get the mape\n",
    "   \n",
    "    mape_test = MAPE(Y_test,y_pred_knn_test)\n",
    "    \n",
    "    \n",
    "     #for rsquare and adjusted\n",
    "#     SS_Residual = sum((y_test.values-y_pred_knn_test)**2)\n",
    "    \n",
    "   \n",
    "#     SS_Total = sum((y_test.values-np.mean(y_test.values))**2)\n",
    "#     r_squared = 1 - (float(SS_Residual))/SS_Total\n",
    "#     adjusted_r_squared = 1 - (1-r_squared)*(len(y_test)-1)/(len(y_test)-x_test.shape[1]-1)\n",
    "#     print(\"R squared\",r_squared) \n",
    "#     print(\"adjusted r square\",adjusted_r_squared)\n",
    "\n",
    "\n",
    "##############\n",
    "    \n",
    "    \n",
    "    \n",
    "    print(mape_test)\n",
    "    return {'rmse_train':rmse_train,'rmse_test':rmse_test,'mape_test':mape_test}\n",
    "#     print(\"rmse of knn for test data for {} neighbour is {}\".format(diff_neighbours[i],rmse))\n",
    "\n",
    "    \n",
    "    \n",
    "#tunning one of the hyperperameters    \n",
    "def knn(x_train,y_train,x_test,y_test):    \n",
    "    diff_neighbours = [1,2,3,4,5,6,7,8,9]\n",
    "    for i in range(0,len(diff_neighbours)):\n",
    "        rmse_errors = knn_model(x_train,y_train,x_test,y_test,diff_neighbours[i])\n",
    "        \n",
    "        print(\"rmse of knn  for train data for dpth {} is {}\".format(diff_neighbours[i],rmse_errors['rmse_train']))\n",
    "        print(\"rmse of knn  for test data for dpth {} is {}\".format(diff_neighbours[i],rmse_errors['rmse_test']))\n",
    "        \n",
    "    \n",
    "knn(X_train,Y_train,X_test,Y_test)"
   ]
  },
  {
   "cell_type": "code",
   "execution_count": 64,
   "metadata": {
    "collapsed": true
   },
   "outputs": [],
   "source": [
    "#creating \n",
    "def random_forest_model(x_train,y_train,x_test,y_test):\n",
    "#     print(depth)\n",
    "\n",
    "    \n",
    "    param_grid = {\n",
    "    'bootstrap': [True],\n",
    "    'max_depth': [80, 90, 100, 110],\n",
    "    'n_estimators': [100,200]\n",
    "}\n",
    "# Create a based model\n",
    "    regr = RandomForestRegressor()\n",
    "    # Instantiate the grid search model\n",
    "    grid_search = GridSearchCV(regr, param_grid = param_grid, \n",
    "                              cv = 3, n_jobs = 10, verbose = 2)\n",
    "#     regr = RandomForestRegressor(max_depth=depth, random_state=0, n_estimators=100)\n",
    "    regr = grid_search.fit(x_train,y_train)\n",
    "#     feature_importances = pd.DataFrame({'feature': X_train.columns,\n",
    "#                                         'importance': regr.feature_importances_}).\\\n",
    "#                            sort_values('importance', ascending = False).set_index('feature')\n",
    "    \n",
    "                           \n",
    "    y_pred_tree_random_forest = regr.predict(X_train)\n",
    "#     print(y_pred_tree_random_forest)\n",
    "   \n",
    "    rmse_train =  sqrt(mean_squared_error(Y_train, y_pred_tree_random_forest))\n",
    "#     print(\"rmse of Random trees for train data for dpth {} is {}\".format(diff_depths[i],rmse))\n",
    "    y_pred_tree_test_random = regr.predict(X_test)\n",
    "    rmse_test =  sqrt(mean_squared_error(Y_test,y_pred_tree_test_random))\n",
    "    \n",
    "    \n",
    "#     y_train = np.reshape(y_train,(y_train.shape[0],1))\n",
    "#     y_pred_tree_random_forest = np.reshape( y_pred_tree_random_forest,( y_pred_tree_random_forest[0],1))\n",
    "    \n",
    "    \n",
    "#     mape_train = MAPE(y_train,y_pred_tree_random_forest)\n",
    "#     errors = abs(y_pred_tree_test_random - Y_test)\n",
    "    y_test = np.reshape(y_test,(y_test.shape[0],1))\n",
    "    y_pred_tree_test_random = np.reshape(y_pred_tree_test_random,(y_pred_tree_test_random.shape[0],1))\n",
    "    \n",
    "    mape_test = MAPE(y_test,y_pred_tree_test_random)\n",
    "    \n",
    "    \n",
    "    # Calculate mean absolute percentage error (MAPE)\n",
    "#     mape = 100 * (errors / y_test)\n",
    "    \n",
    "#     mape_test = MAPE(Y_test,y_pred_tree_test_random)\n",
    "#     mape_train = MAPE(Y_train, y_pred_tree_random_forest)\n",
    "   \n",
    "    \n",
    "   \n",
    "    \n",
    "    #for rsquare and adjusted\n",
    "    SS_Residual = sum((y_test.values-y_pred_tree_test_random)**2)\n",
    "    \n",
    "   \n",
    "    SS_Total = sum((y_test.values-np.mean(y_test.values))**2)\n",
    "    r_squared = 1 - (float(SS_Residual))/SS_Total\n",
    "    adjusted_r_squared = 1 - (1-r_squared)*(len(y_test)-1)/(len(y_test)-x_test.shape[1]-1)\n",
    "    print(\"R squared\",r_squared) \n",
    "    print(\"adjusted r square\",adjusted_r_squared)\n",
    "\n",
    "\n",
    "##############\n",
    "#     print(\"rmse of Random trees for test data for depth {} is {}\".format(diff_depths[i],rmse))\n",
    "#     print(feature_importances.head(10))\n",
    "    print(\"mape_test\",mape_test)\n",
    "    \n",
    "    return {'rmse_train':rmse_train,'rmse_test':rmse_test,'mape_test': mape_test}\n",
    "        "
   ]
  },
  {
   "cell_type": "code",
   "execution_count": null,
   "metadata": {
    "collapsed": true
   },
   "outputs": [],
   "source": []
  },
  {
   "cell_type": "code",
   "execution_count": 65,
   "metadata": {},
   "outputs": [
    {
     "name": "stdout",
     "output_type": "stream",
     "text": [
      "Fitting 3 folds for each of 8 candidates, totalling 24 fits\n",
      "[CV] bootstrap=True, max_depth=80, n_estimators=100 ..................\n",
      "[CV] bootstrap=True, max_depth=80, n_estimators=100 ..................\n",
      "[CV] bootstrap=True, max_depth=80, n_estimators=100 ..................\n",
      "[CV] bootstrap=True, max_depth=80, n_estimators=200 ..................\n",
      "[CV] bootstrap=True, max_depth=80, n_estimators=200 ..................\n",
      "[CV] bootstrap=True, max_depth=80, n_estimators=200 ..................\n",
      "[CV] bootstrap=True, max_depth=90, n_estimators=100 ..................\n",
      "[CV] bootstrap=True, max_depth=90, n_estimators=100 ..................\n",
      "[CV] bootstrap=True, max_depth=90, n_estimators=100 ..................\n",
      "[CV] bootstrap=True, max_depth=90, n_estimators=200 ..................\n",
      "[CV] ... bootstrap=True, max_depth=80, n_estimators=100, total=   1.3s\n",
      "[CV] bootstrap=True, max_depth=90, n_estimators=200 ..................\n",
      "[CV] ... bootstrap=True, max_depth=80, n_estimators=100, total=   1.3s\n",
      "[CV] bootstrap=True, max_depth=90, n_estimators=200 ..................\n",
      "[CV] ... bootstrap=True, max_depth=90, n_estimators=100, total=   1.4s\n",
      "[CV] bootstrap=True, max_depth=100, n_estimators=100 .................\n",
      "[CV] ... bootstrap=True, max_depth=80, n_estimators=100, total=   1.4s\n",
      "[CV] bootstrap=True, max_depth=100, n_estimators=100 .................\n",
      "[CV] ... bootstrap=True, max_depth=90, n_estimators=100, total=   1.4s\n",
      "[CV] bootstrap=True, max_depth=100, n_estimators=100 .................\n",
      "[CV] ... bootstrap=True, max_depth=90, n_estimators=100, total=   1.4s\n",
      "[CV] bootstrap=True, max_depth=100, n_estimators=200 .................\n",
      "[CV] ... bootstrap=True, max_depth=90, n_estimators=200, total=   2.6s\n",
      "[CV] bootstrap=True, max_depth=100, n_estimators=200 .................\n",
      "[CV] .. bootstrap=True, max_depth=100, n_estimators=100, total=   1.3s\n",
      "[CV] ... bootstrap=True, max_depth=80, n_estimators=200, total=   2.7s\n",
      "[CV] .. bootstrap=True, max_depth=100, n_estimators=100, total=   1.3s\n",
      "[CV] bootstrap=True, max_depth=100, n_estimators=200 .................\n",
      "[CV] bootstrap=True, max_depth=110, n_estimators=100 .................\n",
      "[CV] ... bootstrap=True, max_depth=80, n_estimators=200, total=   2.8s\n",
      "[CV] bootstrap=True, max_depth=110, n_estimators=100 .................\n",
      "[CV] bootstrap=True, max_depth=110, n_estimators=100 .................\n",
      "[CV] .. bootstrap=True, max_depth=100, n_estimators=100, total=   1.3s\n",
      "[CV] ... bootstrap=True, max_depth=80, n_estimators=200, total=   2.8s\n",
      "[CV] bootstrap=True, max_depth=110, n_estimators=200 .................\n",
      "[CV] bootstrap=True, max_depth=110, n_estimators=200 .................\n",
      "[CV] ... bootstrap=True, max_depth=90, n_estimators=200, total=   2.2s\n",
      "[CV] bootstrap=True, max_depth=110, n_estimators=200 .................\n",
      "[CV] .. bootstrap=True, max_depth=110, n_estimators=100, total=   0.9s\n",
      "[CV] ... bootstrap=True, max_depth=90, n_estimators=200, total=   2.8s\n",
      "[CV] .. bootstrap=True, max_depth=110, n_estimators=100, total=   1.4s\n",
      "[CV] .. bootstrap=True, max_depth=100, n_estimators=200, total=   2.6s\n",
      "[CV] .. bootstrap=True, max_depth=110, n_estimators=100, total=   1.4s\n"
     ]
    },
    {
     "name": "stderr",
     "output_type": "stream",
     "text": [
      "[Parallel(n_jobs=10)]: Done  18 out of  24 | elapsed:    4.4s remaining:    1.5s\n"
     ]
    },
    {
     "name": "stdout",
     "output_type": "stream",
     "text": [
      "[CV] .. bootstrap=True, max_depth=100, n_estimators=200, total=   2.0s\n",
      "[CV] .. bootstrap=True, max_depth=110, n_estimators=200, total=   1.8s\n",
      "[CV] .. bootstrap=True, max_depth=100, n_estimators=200, total=   2.0s\n",
      "[CV] .. bootstrap=True, max_depth=110, n_estimators=200, total=   1.8s\n",
      "[CV] .. bootstrap=True, max_depth=110, n_estimators=200, total=   1.4s\n"
     ]
    },
    {
     "name": "stderr",
     "output_type": "stream",
     "text": [
      "[Parallel(n_jobs=10)]: Done  24 out of  24 | elapsed:    5.2s finished\n"
     ]
    },
    {
     "name": "stdout",
     "output_type": "stream",
     "text": [
      "R squared [ 0.88843713]\n",
      "adjusted r square [ 0.86246991]\n",
      "mape_test cnt    14.111677\n",
      "dtype: float64\n"
     ]
    },
    {
     "data": {
      "text/plain": [
       "{'mape_test': cnt    14.111677\n",
       " dtype: float64,\n",
       " 'rmse_test': 619.5761620258597,\n",
       " 'rmse_train': 252.97435251617367}"
      ]
     },
     "execution_count": 65,
     "metadata": {},
     "output_type": "execute_result"
    }
   ],
   "source": [
    "#for hyperperameter tunning\n",
    "\n",
    "# def random_forest(x_train,y_train,x_test,y_test):\n",
    "#     diff_depths = [1,2,3,4,5,6,7,8,9,10,11,12,13] \n",
    "    \n",
    "#     for i in range(0,len(diff_depths)):\n",
    "# #         print(diff_depths[i])   \n",
    "#         rmse_errors = random_forest_model(x_train,y_train,x_test,y_test,diff_depths[i])\n",
    "        \n",
    "#         print(\"rmse of Random trees for train data for dpth {} is {}\".format(diff_depths[i],rmse_errors['rmse_train']))\n",
    "#         print(\"rmse of Random trees for test data for dpth {} is {}\".format(diff_depths[i],rmse_errors['rmse_test']))\n",
    "\n",
    "\n",
    "#     return\n",
    "\n",
    "random_forest_model(X_train,Y_train,X_test,Y_test)"
   ]
  },
  {
   "cell_type": "markdown",
   "metadata": {
    "collapsed": true
   },
   "source": [
    "<h6>Comparing all the models that we have built random forest has performed best </h6>"
   ]
  },
  {
   "cell_type": "markdown",
   "metadata": {},
   "source": [
    "<p>hence we will pick random forest for our production deployment</p>"
   ]
  },
  {
   "cell_type": "code",
   "execution_count": 68,
   "metadata": {},
   "outputs": [
    {
     "name": "stdout",
     "output_type": "stream",
     "text": [
      "85.89\n"
     ]
    }
   ],
   "source": [
    "#As accuracy is 100 - mape\n",
    "#mape for random forest is 14.11\n",
    "accuracy = 100 - 14.11\n",
    "print(accuracy)\n",
    "\n"
   ]
  },
  {
   "cell_type": "code",
   "execution_count": 67,
   "metadata": {
    "collapsed": true
   },
   "outputs": [],
   "source": [
    "#accuracy for this model has 85.89\n",
    "#mape for this model is 14.11\n",
    "#R-square is 86%\n",
    "#Adjusted R square 83%"
   ]
  }
 ],
 "metadata": {
  "kernelspec": {
   "display_name": "Python 3",
   "language": "python",
   "name": "python3"
  },
  "language_info": {
   "codemirror_mode": {
    "name": "ipython",
    "version": 3
   },
   "file_extension": ".py",
   "mimetype": "text/x-python",
   "name": "python",
   "nbconvert_exporter": "python",
   "pygments_lexer": "ipython3",
   "version": "3.6.3"
  }
 },
 "nbformat": 4,
 "nbformat_minor": 2
}
